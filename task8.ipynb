{
  "cells": [
    {
      "cell_type": "code",
      "execution_count": null,
      "metadata": {
        "colab": {
          "base_uri": "https://localhost:8080/"
        },
        "id": "9uPajZ6e-HhS",
        "outputId": "413f2d24-4a0f-4d6c-f99e-c0af30f48125"
      },
      "outputs": [
        {
          "output_type": "stream",
          "name": "stdout",
          "text": [
            "Missing values per column before imputation:\n",
            "step              0\n",
            "type              0\n",
            "amount            0\n",
            "nameOrig          1\n",
            "oldbalanceOrg     1\n",
            "newbalanceOrig    1\n",
            "nameDest          1\n",
            "oldbalanceDest    1\n",
            "newbalanceDest    1\n",
            "isFraud           1\n",
            "isFlaggedFraud    1\n",
            "dtype: int64\n"
          ]
        },
        {
          "output_type": "stream",
          "name": "stderr",
          "text": [
            "<ipython-input-5-d354fa6cc11b>:15: FutureWarning: DataFrame.fillna with 'method' is deprecated and will raise in a future version. Use obj.ffill() or obj.bfill() instead.\n",
            "  df.fillna(method='ffill', inplace=True)\n"
          ]
        },
        {
          "output_type": "stream",
          "name": "stdout",
          "text": [
            "Initial Model Evaluation:\n",
            "              precision    recall  f1-score   support\n",
            "\n",
            "         0.0       1.00      1.00      1.00   1123964\n",
            "         1.0       0.15      0.15      0.15       914\n",
            "\n",
            "    accuracy                           1.00   1124878\n",
            "   macro avg       0.57      0.58      0.57   1124878\n",
            "weighted avg       1.00      1.00      1.00   1124878\n",
            "\n",
            "Best parameters found:\n",
            "{'max_depth': 5, 'min_samples_leaf': 4, 'min_samples_split': 2}\n",
            "Evaluation of Tuned Model:\n",
            "              precision    recall  f1-score   support\n",
            "\n",
            "         0.0       1.00      1.00      1.00   1123964\n",
            "         1.0       0.72      0.17      0.28       914\n",
            "\n",
            "    accuracy                           1.00   1124878\n",
            "   macro avg       0.86      0.59      0.64   1124878\n",
            "weighted avg       1.00      1.00      1.00   1124878\n",
            "\n"
          ]
        }
      ],
      "source": [
        "import pandas as pd\n",
        "import numpy as np\n",
        "from sklearn.model_selection import train_test_split, GridSearchCV\n",
        "from sklearn.tree import DecisionTreeClassifier\n",
        "from sklearn.metrics import classification_report\n",
        "from sklearn.preprocessing import LabelEncoder\n",
        "\n",
        "# 1. Load & Preprocess the Dataset\n",
        "# Replace 'fraud_detection.csv' with the actual path if needed.\n",
        "df = pd.read_csv('onlinefraud.csv')\n",
        "\n",
        "# Inspect for missing values and fill them if necessary.\n",
        "print(\"Missing values per column before imputation:\")\n",
        "print(df.isnull().sum())\n",
        "df.fillna(method='ffill', inplace=True)\n",
        "\n",
        "# Convert categorical variables using LabelEncoder (e.g., 'Type' column).\n",
        "le = LabelEncoder()\n",
        "df['type'] = le.fit_transform(df['type'])\n",
        "\n",
        "# 2. Feature Engineering\n",
        "# Create a derived feature. For example, here we create a log-transformed amount.\n",
        "df['log_amount'] = np.log1p(df['amount'])\n",
        "\n",
        "# Define features and target variable.\n",
        "features = ['amount', 'type', 'log_amount']\n",
        "target = 'isFraud'\n",
        "\n",
        "X = df[features]\n",
        "y = df[target]\n",
        "\n",
        "# 3. Split the Dataset into Training and Testing Sets\n",
        "X_train, X_test, y_train, y_test = train_test_split(X, y, test_size=0.3, random_state=42)\n",
        "\n",
        "# 4. Train a Decision Tree Classifier\n",
        "dt = DecisionTreeClassifier(random_state=42)\n",
        "dt.fit(X_train, y_train)\n",
        "\n",
        "# Evaluate initial model performance.\n",
        "y_pred = dt.predict(X_test)\n",
        "print(\"Initial Model Evaluation:\")\n",
        "print(classification_report(y_test, y_pred))\n",
        "\n",
        "# 5. Hyperparameter Tuning using GridSearchCV\n",
        "param_grid = {\n",
        "    'max_depth': [None, 5, 10, 20],\n",
        "    'min_samples_split': [2, 5, 10],\n",
        "    'min_samples_leaf': [1, 2, 4]\n",
        "}\n",
        "\n",
        "grid_search = GridSearchCV(estimator=DecisionTreeClassifier(random_state=42),\n",
        "                           param_grid=param_grid,\n",
        "                           cv=5,\n",
        "                           scoring='f1',\n",
        "                           n_jobs=-1)\n",
        "grid_search.fit(X_train, y_train)\n",
        "\n",
        "print(\"Best parameters found:\")\n",
        "print(grid_search.best_params_)\n",
        "\n",
        "# Evaluate the tuned model.\n",
        "best_model = grid_search.best_estimator_\n",
        "y_pred_best = best_model.predict(X_test)\n",
        "print(\"Evaluation of Tuned Model:\")\n",
        "print(classification_report(y_test, y_pred_best))\n"
      ]
    }
  ],
  "metadata": {
    "colab": {
      "provenance": []
    },
    "kernelspec": {
      "display_name": "Python 3",
      "name": "python3"
    },
    "language_info": {
      "name": "python"
    }
  },
  "nbformat": 4,
  "nbformat_minor": 0
}